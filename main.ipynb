{
 "cells": [
  {
   "cell_type": "code",
   "execution_count": 1,
   "id": "8c9d0a29-b690-456e-a037-da710a9cf121",
   "metadata": {},
   "outputs": [],
   "source": [
    "import numpy as np\n",
    "import scipy as sp\n",
    "import pandas as pd\n",
    "import matplotlib.pyplot as plt\n",
    "from astropy import units as u\n",
    "from astropy.constants import G, k_B\n",
    "from astropy.visualization import quantity_support"
   ]
  },
  {
   "cell_type": "markdown",
   "id": "129d1ee2-e7b2-4ec9-a9e1-d9e1042d3287",
   "metadata": {},
   "source": [
    "Matplotlib configuration"
   ]
  },
  {
   "cell_type": "code",
   "execution_count": 2,
   "id": "5e40e9ba-a067-4fff-b6ac-ea59f7516c76",
   "metadata": {},
   "outputs": [
    {
     "data": {
      "text/plain": [
       "<astropy.visualization.units.quantity_support.<locals>.MplQuantityConverter at 0x7a6d477c0a90>"
      ]
     },
     "execution_count": 2,
     "metadata": {},
     "output_type": "execute_result"
    }
   ],
   "source": [
    "plt.rcParams['figure.figsize'] = [8, 3]\n",
    "plt.rcParams['figure.dpi'] = 200\n",
    "quantity_support()  "
   ]
  },
  {
   "cell_type": "markdown",
   "id": "0b6ec36c-1f2b-42b8-a07b-16507d7e33bb",
   "metadata": {},
   "source": [
    "Drop null entries of dataframe and convert to numpy array"
   ]
  },
  {
   "cell_type": "code",
   "execution_count": 3,
   "id": "3b422c4e-f001-495b-8801-25cf3c100bff",
   "metadata": {},
   "outputs": [],
   "source": [
    "def array(df):\n",
    "    return df.dropna().to_numpy()"
   ]
  },
  {
   "cell_type": "markdown",
   "id": "4b65631b-02ae-40e8-ac8d-f75a10a8b5d8",
   "metadata": {},
   "source": [
    "---\n",
    "Mass of star $M$ ($M_\\odot$)"
   ]
  },
  {
   "cell_type": "code",
   "execution_count": 4,
   "id": "600c2c98-ce6d-417b-833b-eeb69301bf8e",
   "metadata": {},
   "outputs": [],
   "source": [
    "M_star = 20 * u.M_sun"
   ]
  },
  {
   "cell_type": "markdown",
   "id": "fdf20d8c-7de0-4c88-b3a1-9c0fa4a9ad2e",
   "metadata": {},
   "source": [
    "---\n",
    "### MESA simulation data for $^{23}$Na"
   ]
  },
  {
   "cell_type": "code",
   "execution_count": 5,
   "id": "373a39c6-4743-4fa9-b652-e59fe8a22b4c",
   "metadata": {},
   "outputs": [],
   "source": [
    "model_id = 1866\n",
    "title = f\"MESA model {model_id}\""
   ]
  },
  {
   "cell_type": "code",
   "execution_count": 6,
   "id": "3b965a08-5715-43ac-9051-dca9c56e96ca",
   "metadata": {},
   "outputs": [
    {
     "data": {
      "text/html": [
       "<div>\n",
       "<style scoped>\n",
       "    .dataframe tbody tr th:only-of-type {\n",
       "        vertical-align: middle;\n",
       "    }\n",
       "\n",
       "    .dataframe tbody tr th {\n",
       "        vertical-align: top;\n",
       "    }\n",
       "\n",
       "    .dataframe thead th {\n",
       "        text-align: right;\n",
       "    }\n",
       "</style>\n",
       "<table border=\"1\" class=\"dataframe\">\n",
       "  <thead>\n",
       "    <tr style=\"text-align: right;\">\n",
       "      <th></th>\n",
       "      <th>radius</th>\n",
       "      <th>log_mass_fraction</th>\n",
       "      <th>log_T_core</th>\n",
       "      <th>radius_temp</th>\n",
       "      <th>log_Ts</th>\n",
       "      <th>radius_rho</th>\n",
       "      <th>log_rhos</th>\n",
       "      <th>log_star_age</th>\n",
       "    </tr>\n",
       "  </thead>\n",
       "  <tbody>\n",
       "    <tr>\n",
       "      <th>0</th>\n",
       "      <td>0.006362</td>\n",
       "      <td>-1.909480</td>\n",
       "      <td>9.228972</td>\n",
       "      <td>-0.000036</td>\n",
       "      <td>10.197921</td>\n",
       "      <td>-0.000089</td>\n",
       "      <td>9.952260</td>\n",
       "      <td>6.989264</td>\n",
       "    </tr>\n",
       "    <tr>\n",
       "      <th>1</th>\n",
       "      <td>0.006527</td>\n",
       "      <td>-1.748408</td>\n",
       "      <td>NaN</td>\n",
       "      <td>0.000326</td>\n",
       "      <td>10.185615</td>\n",
       "      <td>0.000268</td>\n",
       "      <td>9.757676</td>\n",
       "      <td>NaN</td>\n",
       "    </tr>\n",
       "    <tr>\n",
       "      <th>2</th>\n",
       "      <td>0.006791</td>\n",
       "      <td>-1.632140</td>\n",
       "      <td>NaN</td>\n",
       "      <td>0.000452</td>\n",
       "      <td>10.131877</td>\n",
       "      <td>0.000459</td>\n",
       "      <td>9.434842</td>\n",
       "      <td>NaN</td>\n",
       "    </tr>\n",
       "    <tr>\n",
       "      <th>3</th>\n",
       "      <td>0.007201</td>\n",
       "      <td>-1.591433</td>\n",
       "      <td>NaN</td>\n",
       "      <td>0.000822</td>\n",
       "      <td>10.111762</td>\n",
       "      <td>0.000674</td>\n",
       "      <td>9.177563</td>\n",
       "      <td>NaN</td>\n",
       "    </tr>\n",
       "    <tr>\n",
       "      <th>4</th>\n",
       "      <td>0.007612</td>\n",
       "      <td>-1.584377</td>\n",
       "      <td>NaN</td>\n",
       "      <td>0.000875</td>\n",
       "      <td>10.057286</td>\n",
       "      <td>0.000576</td>\n",
       "      <td>9.638708</td>\n",
       "      <td>NaN</td>\n",
       "    </tr>\n",
       "    <tr>\n",
       "      <th>...</th>\n",
       "      <td>...</td>\n",
       "      <td>...</td>\n",
       "      <td>...</td>\n",
       "      <td>...</td>\n",
       "      <td>...</td>\n",
       "      <td>...</td>\n",
       "      <td>...</td>\n",
       "      <td>...</td>\n",
       "    </tr>\n",
       "    <tr>\n",
       "      <th>78</th>\n",
       "      <td>NaN</td>\n",
       "      <td>NaN</td>\n",
       "      <td>NaN</td>\n",
       "      <td>0.029532</td>\n",
       "      <td>8.782180</td>\n",
       "      <td>0.028688</td>\n",
       "      <td>3.789651</td>\n",
       "      <td>NaN</td>\n",
       "    </tr>\n",
       "    <tr>\n",
       "      <th>79</th>\n",
       "      <td>NaN</td>\n",
       "      <td>NaN</td>\n",
       "      <td>NaN</td>\n",
       "      <td>0.029927</td>\n",
       "      <td>8.765341</td>\n",
       "      <td>0.029105</td>\n",
       "      <td>3.780926</td>\n",
       "      <td>NaN</td>\n",
       "    </tr>\n",
       "    <tr>\n",
       "      <th>80</th>\n",
       "      <td>NaN</td>\n",
       "      <td>NaN</td>\n",
       "      <td>NaN</td>\n",
       "      <td>0.030195</td>\n",
       "      <td>8.770152</td>\n",
       "      <td>0.029516</td>\n",
       "      <td>3.818316</td>\n",
       "      <td>NaN</td>\n",
       "    </tr>\n",
       "    <tr>\n",
       "      <th>81</th>\n",
       "      <td>NaN</td>\n",
       "      <td>NaN</td>\n",
       "      <td>NaN</td>\n",
       "      <td>NaN</td>\n",
       "      <td>NaN</td>\n",
       "      <td>0.029960</td>\n",
       "      <td>3.756733</td>\n",
       "      <td>NaN</td>\n",
       "    </tr>\n",
       "    <tr>\n",
       "      <th>82</th>\n",
       "      <td>NaN</td>\n",
       "      <td>NaN</td>\n",
       "      <td>NaN</td>\n",
       "      <td>NaN</td>\n",
       "      <td>NaN</td>\n",
       "      <td>0.030195</td>\n",
       "      <td>3.751845</td>\n",
       "      <td>NaN</td>\n",
       "    </tr>\n",
       "  </tbody>\n",
       "</table>\n",
       "<p>83 rows × 8 columns</p>\n",
       "</div>"
      ],
      "text/plain": [
       "      radius  log_mass_fraction  log_T_core  radius_temp     log_Ts  \\\n",
       "0   0.006362          -1.909480    9.228972    -0.000036  10.197921   \n",
       "1   0.006527          -1.748408         NaN     0.000326  10.185615   \n",
       "2   0.006791          -1.632140         NaN     0.000452  10.131877   \n",
       "3   0.007201          -1.591433         NaN     0.000822  10.111762   \n",
       "4   0.007612          -1.584377         NaN     0.000875  10.057286   \n",
       "..       ...                ...         ...          ...        ...   \n",
       "78       NaN                NaN         NaN     0.029532   8.782180   \n",
       "79       NaN                NaN         NaN     0.029927   8.765341   \n",
       "80       NaN                NaN         NaN     0.030195   8.770152   \n",
       "81       NaN                NaN         NaN          NaN        NaN   \n",
       "82       NaN                NaN         NaN          NaN        NaN   \n",
       "\n",
       "    radius_rho  log_rhos  log_star_age  \n",
       "0    -0.000089  9.952260      6.989264  \n",
       "1     0.000268  9.757676           NaN  \n",
       "2     0.000459  9.434842           NaN  \n",
       "3     0.000674  9.177563           NaN  \n",
       "4     0.000576  9.638708           NaN  \n",
       "..         ...       ...           ...  \n",
       "78    0.028688  3.789651           NaN  \n",
       "79    0.029105  3.780926           NaN  \n",
       "80    0.029516  3.818316           NaN  \n",
       "81    0.029960  3.756733           NaN  \n",
       "82    0.030195  3.751845           NaN  \n",
       "\n",
       "[83 rows x 8 columns]"
      ]
     },
     "execution_count": 6,
     "metadata": {},
     "output_type": "execute_result"
    }
   ],
   "source": [
    "sim = pd.read_csv(f\"{int(M_star / u.M_sun)}M_models/model_{model_id}.csv\")\n",
    "sim"
   ]
  },
  {
   "cell_type": "code",
   "execution_count": 7,
   "id": "1947ffcd-ccf3-46cc-b352-78b8694504f9",
   "metadata": {},
   "outputs": [],
   "source": [
    "r_Z_raw   = array(sim[\"radius\"]) * u.R_sun\n",
    "Z_raw     = 10 ** array(sim[\"log_mass_fraction\"])\n",
    "\n",
    "r_T_raw   = array(sim[\"radius_temp\"]) * u.R_sun\n",
    "T_raw     = (10 ** array(sim[\"log_Ts\"])) * u.K\n",
    "\n",
    "r_rho_raw = array(sim[\"radius_rho\"]) * u.R_sun\n",
    "rho_raw   = (10 ** array(sim[\"log_rhos\"])) * u.g / (u.cm**3)"
   ]
  },
  {
   "cell_type": "code",
   "execution_count": 8,
   "id": "702a1f37-96bb-412d-af4d-3dd07626b208",
   "metadata": {},
   "outputs": [
    {
     "data": {
      "image/png": "[encoded data removed]",
      "text/plain": [
       "<Figure size 1200x800 with 3 Axes>"
      ]
     },
     "metadata": {
      "needs_background": "light"
     },
     "output_type": "display_data"
    }
   ],
   "source": [
    "fig, axs = plt.subplots(3, 1, sharex=True, figsize=(6, 4))\n",
    "plt.sca(axs[0])\n",
    "plt.title(f\"{title}: Raw data\")\n",
    "plt.plot(r_rho_raw, rho_raw, label=r\"Density $\\rho$\")\n",
    "\n",
    "plt.sca(axs[1])\n",
    "plt.plot(r_T_raw, T_raw, label=\"Temperature $T$\")\n",
    "\n",
    "plt.sca(axs[2])\n",
    "plt.plot(r_Z_raw, Z_raw, label=\"23Na mass fraction $Z$\")\n",
    "\n",
    "for ax in axs:\n",
    "    plt.sca(ax)\n",
    "    plt.legend()\n",
    "    plt.grid()\n",
    "\n",
    "plt.show()"
   ]
  },
  {
   "cell_type": "markdown",
   "id": "34ccd71b-4e24-4cde-9518-7e49fec05b88",
   "metadata": {},
   "source": [
    "Unified array of radii (\"shells\")"
   ]
  },
  {
   "cell_type": "code",
   "execution_count": 10,
   "id": "fdb37ac5-1705-4b1a-8a51-36c8157afe49",
   "metadata": {},
   "outputs": [
    {
     "data": {
      "text/latex": [
       "$[0.0063617483,~0.0063618107,~0.006361873,~\\dots,~0.012594375,~0.012594437,~0.012594499] \\; \\mathrm{R_{\\odot}}$"
      ],
      "text/plain": [
       "<Quantity [0.00636175, 0.00636181, 0.00636187, ..., 0.01259437, 0.01259444,\n",
       "           0.0125945 ] solRad>"
      ]
     },
     "execution_count": 10,
     "metadata": {},
     "output_type": "execute_result"
    }
   ],
   "source": [
    "r_min = np.min(r_Z_raw.to_value(u.R_sun)) * u.R_sun\n",
    "r_max = np.max(r_Z_raw.to_value(u.R_sun)) * u.R_sun\n",
    "samples = int(1e5)\n",
    "r = np.linspace(r_min, r_max, samples)\n",
    "r"
   ]
  },
  {
   "cell_type": "markdown",
   "id": "4c298d8c-1969-4ea3-9436-47d8519dbfff",
   "metadata": {},
   "source": [
    "Shell volumes"
   ]
  },
  {
   "cell_type": "code",
   "execution_count": null,
   "id": "22271ca2-9b20-4bd4-972f-44acdc70f78c",
   "metadata": {},
   "outputs": [],
   "source": [
    "dr = (r_max - r_min)/samples\n",
    "dV = 4 * np.pi * r * r * dr\n",
    "dV"
   ]
  },
  {
   "cell_type": "markdown",
   "id": "74c999d3-7db9-4d0c-b763-04c15ae26367",
   "metadata": {},
   "source": [
    "Shell temperatures, densities, and 23Na abundances, interpolated from raw MESA output"
   ]
  },
  {
   "cell_type": "code",
   "execution_count": null,
   "id": "37e47961-5352-41c6-834f-057627b8cebd",
   "metadata": {},
   "outputs": [],
   "source": [
    "T = np.interp(r, r_T_raw, T_raw)\n",
    "T"
   ]
  },
  {
   "cell_type": "code",
   "execution_count": null,
   "id": "bf7d7b25-d2c0-4d36-9395-f5e64b80347e",
   "metadata": {},
   "outputs": [],
   "source": [
    "rho = np.interp(r, r_rho_raw, rho_raw)\n",
    "rho"
   ]
  },
  {
   "cell_type": "code",
   "execution_count": null,
   "id": "ee99286d-e59f-48f4-8157-934bf3f0d5fa",
   "metadata": {},
   "outputs": [],
   "source": [
    "Z = np.interp(r, r_Z_raw, Z_raw)\n",
    "Z"
   ]
  },
  {
   "cell_type": "markdown",
   "id": "057ae71a-9b0e-445e-a565-abc4d74aa46d",
   "metadata": {},
   "source": [
    "Shell masses of $^{23}$Na"
   ]
  },
  {
   "cell_type": "code",
   "execution_count": null,
   "id": "4243830c-db88-4c8d-8c88-aade025e69bd",
   "metadata": {},
   "outputs": [],
   "source": [
    "dM = (Z * rho * dV).to(u.g)\n",
    "dM"
   ]
  },
  {
   "cell_type": "code",
   "execution_count": null,
   "id": "ddc671c5-8613-4eb5-8554-ffce372bf166",
   "metadata": {},
   "outputs": [],
   "source": [
    "plt.title(f\"{title}: $^{{23}}$Na distribution\")\n",
    "plt.plot(r, dM.to(u.M_sun) / dr, label=f\"Total $^{{23}}$Na mass: {np.sum(dM).to_value(u.M_sun):.3e} $M\\!_\\odot$\")\n",
    "plt.legend()\n",
    "plt.grid()"
   ]
  },
  {
   "cell_type": "markdown",
   "id": "9036e7d4-c674-4514-aa43-f128ddcfc41a",
   "metadata": {},
   "source": [
    "---\n",
    "### Plotting parameters"
   ]
  },
  {
   "cell_type": "markdown",
   "id": "1a4a8a67-0bd5-4e84-a1bd-537c12d70dc5",
   "metadata": {},
   "source": [
    "Flavor-singet axial-vector matrix element $S$"
   ]
  },
  {
   "cell_type": "code",
   "execution_count": null,
   "id": "da7c4c69-87ed-4de0-b9bf-74a789f0ef5a",
   "metadata": {},
   "outputs": [],
   "source": [
    "S_range = np.linspace(-0.25, 2, 4)"
   ]
  },
  {
   "cell_type": "markdown",
   "id": "30e8a3eb-2c63-4090-9348-0538a0aa1139",
   "metadata": {},
   "source": [
    "Axion mass $m_a$ (eV)"
   ]
  },
  {
   "cell_type": "code",
   "execution_count": null,
   "id": "a7917edf-79a7-4ef3-8a2e-b4f7b0b60b59",
   "metadata": {},
   "outputs": [],
   "source": [
    "m_a_range = np.linspace(0, 20, 40) * u.eV"
   ]
  },
  {
   "cell_type": "markdown",
   "id": "b5c1d104-d7ed-4f68-987b-b69f41931183",
   "metadata": {},
   "source": [
    "---"
   ]
  },
  {
   "cell_type": "markdown",
   "id": "e0306902-eea2-479e-82ad-f583076ef393",
   "metadata": {},
   "source": [
    "Axion luminosity for $^{23}$Na\n",
    "\n",
    "$\\displaystyle L \n",
    "= \\left[\\frac{m_a}{\\text{eV}}\\right]^2\n",
    "\\times 7.2\\cdot10^8\\frac{\\text{erg}}{\\text{g}\\cdot\\text{s}}\n",
    "\\times [1 + 1.07S]^2\n",
    "\\times \\int \\frac{dM(r)}{1.5 + \\exp\\left(\\cfrac{\\beta_3}{k\\cdot T(r)}\\right)}\n",
    "$,\n",
    "$\\beta_3 = 440\\text{ keV}$\n"
   ]
  },
  {
   "cell_type": "code",
   "execution_count": null,
   "id": "264446ee-a094-40cb-97b1-892e80d022ea",
   "metadata": {},
   "outputs": [],
   "source": [
    "beta_3 = 440 * u.keV"
   ]
  },
  {
   "cell_type": "code",
   "execution_count": null,
   "id": "8650bf4a-c659-436e-b2c5-8e07eea79126",
   "metadata": {},
   "outputs": [],
   "source": [
    "L = lambda S, m_a: (\n",
    "    ( (m_a / u.eV)**2 ) \n",
    "    * (7.2e8 * u.erg / (u.g * u.s) ) \n",
    "    * ((1 + 1.07*S)**2) \n",
    "    * np.sum(dM / (1.5 + np.exp( beta_3 / (k_B * T) )))\n",
    ")"
   ]
  },
  {
   "cell_type": "code",
   "execution_count": null,
   "id": "e4f4375d-53fd-4173-8a60-ca34fd20283e",
   "metadata": {},
   "outputs": [],
   "source": [
    "fig, ax = plt.subplots(1, 1, sharex=True, sharey=True, figsize=(5, 4))\n",
    "plt.sca(ax)\n",
    "for (i, S) in enumerate(S_range):\n",
    "    plt.plot(m_a_range.to(u.eV), L(S, m_a_range).to(1e9 * u.L_sun), label=f\"$S={S:.1f}$\")\n",
    "\n",
    "plt.grid()\n",
    "plt.margins(0)\n",
    "plt.legend(frameon=False)\n",
    "plt.xlabel(\"Axion mass (eV)\")\n",
    "plt.ylabel(\"Core axion luminosity ($10^9\\ L\\!_\\odot$)\")\n",
    "plt.title(f\"MESA model {model_id}\")\n",
    "plt.show()"
   ]
  },
  {
   "cell_type": "code",
   "execution_count": null,
   "id": "7f0a7a4b-7909-48ce-ada9-16a46f1160dc",
   "metadata": {},
   "outputs": [],
   "source": []
  }
 ],
 "metadata": {
  "kernelspec": {
   "display_name": "Python 3 (ipykernel)",
   "language": "python",
   "name": "python3"
  },
  "language_info": {
   "codemirror_mode": {
    "name": "ipython",
    "version": 3
   },
   "file_extension": ".py",
   "mimetype": "text/x-python",
   "name": "python",
   "nbconvert_exporter": "python",
   "pygments_lexer": "ipython3",
   "version": "3.10.12"
  }
 },
 "nbformat": 4,
 "nbformat_minor": 5
}
